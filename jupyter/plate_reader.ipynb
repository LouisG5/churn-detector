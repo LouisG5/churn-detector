{
 "cells": [
  {
   "cell_type": "code",
   "execution_count": 14,
   "metadata": {},
   "outputs": [
    {
     "name": "stdout",
     "output_type": "stream",
     "text": [
      "['9537', 'n', '700962', 'km', '8', '0oo']\n",
      "Candidats kilométrage: ['9537', '700962']\n"
     ]
    }
   ],
   "source": [
    "import cv2\n",
    "import easyocr\n",
    "import re\n",
    "\n",
    "# Charger l'image\n",
    "image = cv2.imread('/Users/sebastianonise/Downloads/videoframe_37664.png')\n",
    "\n",
    "# Lancer EasyOCR (français + anglais)\n",
    "reader = easyocr.Reader(['fr', 'en'])\n",
    "\n",
    "# Lire tous les textes de l'image\n",
    "results = reader.readtext(image)\n",
    "\n",
    "# Extraire les textes seulement\n",
    "detected_texts = [text for (_, text, _) in results]\n",
    "\n",
    "print(detected_texts)\n",
    "\n",
    "\n",
    "# Appliquer un filtrage intelligent\n",
    "km_candidates = []\n",
    "for text in detected_texts:\n",
    "    cleaned = text.replace(\" \", \"\")\n",
    "    if re.fullmatch(r\"\\d{4,6}(km)?\", cleaned):\n",
    "        km_candidates.append(cleaned)\n",
    "\n",
    "print(\"Candidats kilométrage:\", km_candidates)\n"
   ]
  },
  {
   "cell_type": "code",
   "execution_count": 15,
   "metadata": {},
   "outputs": [
    {
     "name": "stderr",
     "output_type": "stream",
     "text": [
      "Using CPU. Note: This module is much faster with a GPU.\n"
     ]
    },
    {
     "name": "stdout",
     "output_type": "stream",
     "text": [
      "Kilométrage détecté : 9537\n",
      "Tous les candidats : [{'text': '9537', 'score': 1, 'value': 9537, 'center': (479, 216), 'bbox': [[np.int32(423), np.int32(195)], [np.int32(535), np.int32(195)], [np.int32(535), np.int32(237)], [np.int32(423), np.int32(237)]]}]\n"
     ]
    }
   ],
   "source": [
    "import easyocr\n",
    "import cv2\n",
    "import re\n",
    "\n",
    "def extract_kilometrage_with_easyocr(image_path):\n",
    "    reader = easyocr.Reader(['fr', 'en'], gpu=False)\n",
    "\n",
    "    image = cv2.imread(image_path)\n",
    "    image_resized = cv2.resize(image, (800, int(image.shape[0] * (800 / image.shape[1]))))\n",
    "    height, width, _ = image_resized.shape\n",
    "\n",
    "    results = reader.readtext(image_resized)\n",
    "    candidates = []\n",
    "\n",
    "    for (bbox, text, conf) in results:\n",
    "        clean_text = text.replace(\" \", \"\").lower()\n",
    "        if not re.fullmatch(r\"\\d{4,6}(km)?\", clean_text):\n",
    "            continue\n",
    "\n",
    "        # Position du texte (centre)\n",
    "        (tl, tr, br, bl) = bbox\n",
    "        center_x = int((tl[0] + tr[0] + br[0] + bl[0]) / 4)\n",
    "        center_y = int((tl[1] + tr[1] + br[1] + bl[1]) / 4)\n",
    "\n",
    "        score = 0\n",
    "        if \"km\" in clean_text:\n",
    "            score += 2\n",
    "        if re.fullmatch(r\"\\d{5,6}(km)?\", clean_text):\n",
    "            score += 2\n",
    "        if 0.3 * width < center_x < 0.7 * width:\n",
    "            score += 1\n",
    "        if 0.5 * height < center_y < 0.95 * height:\n",
    "            score += 1\n",
    "        value = int(re.sub(r\"[^\\d]\", \"\", clean_text))\n",
    "        if 10000 <= value <= 500000:\n",
    "            score += 2\n",
    "\n",
    "        candidates.append({\n",
    "            \"text\": text,\n",
    "            \"score\": score,\n",
    "            \"value\": value,\n",
    "            \"center\": (center_x, center_y),\n",
    "            \"bbox\": bbox\n",
    "        })\n",
    "\n",
    "    if not candidates:\n",
    "        return None, []\n",
    "\n",
    "    best_candidate = max(candidates, key=lambda x: x[\"score\"])\n",
    "    return best_candidate[\"value\"], candidates\n",
    "\n",
    "# Exemple d'utilisation\n",
    "if __name__ == \"__main__\":\n",
    "    image_path = \"/Users/sebastianonise/Downloads/videoframe_37664.png\"\n",
    "    km, all_candidates = extract_kilometrage_with_easyocr(image_path)\n",
    "    print(\"Kilométrage détecté :\", km)\n",
    "    print(\"Tous les candidats :\", all_candidates)\n"
   ]
  }
 ],
 "metadata": {
  "kernelspec": {
   "display_name": "Python 3",
   "language": "python",
   "name": "python3"
  },
  "language_info": {
   "codemirror_mode": {
    "name": "ipython",
    "version": 3
   },
   "file_extension": ".py",
   "mimetype": "text/x-python",
   "name": "python",
   "nbconvert_exporter": "python",
   "pygments_lexer": "ipython3",
   "version": "3.13.1"
  }
 },
 "nbformat": 4,
 "nbformat_minor": 2
}
